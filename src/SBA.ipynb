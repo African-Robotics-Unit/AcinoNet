{
 "cells": [
  {
   "cell_type": "code",
   "execution_count": null,
   "metadata": {},
   "outputs": [],
   "source": [
    "import os\n",
    "from glob import glob\n",
    "import numpy as np\n",
    "import pickle\n",
    "import matplotlib.pyplot as plt\n",
    "plt.style.use(os.path.join('..', 'configs', 'mplstyle.yaml'))\n",
    "\n",
    "from lib import utils, app\n",
    "from lib.misc import get_markers\n",
    "from lib.points import get_pairwise_3d_points_from_df\n",
    "\n",
    "%load_ext autoreload\n",
    "%autoreload 2\n",
    "\n",
    "ROOT_DATA_DIR = os.path.join(\"..\", \"data\")"
   ]
  },
  {
   "cell_type": "markdown",
   "metadata": {},
   "source": [
    "# Define the params in the cell below. Thereafter, run all!"
   ]
  },
  {
   "cell_type": "code",
   "execution_count": null,
   "metadata": {},
   "outputs": [],
   "source": [
    "DATA_DIR = os.path.join(ROOT_DATA_DIR, \"2017_08_29 - Copy\", \"top\", \"jules\", \"run1_1\")\n",
    "\n",
    "start_frame = 20\n",
    "end_frame = 70\n",
    "\n",
    "# DLC p_cutoff - any points with likelihood < dlc_thresh are not trusted in EKF\n",
    "dlc_thresh = 0.7  # change this only if FTE result is unsatisfactory"
   ]
  },
  {
   "cell_type": "markdown",
   "metadata": {},
   "source": [
    "# SBA"
   ]
  },
  {
   "cell_type": "markdown",
   "metadata": {},
   "source": [
    "## Function definitions"
   ]
  },
  {
   "cell_type": "code",
   "execution_count": null,
   "metadata": {},
   "outputs": [],
   "source": [
    "def save_sba(positions, path, start_frame, dlc_thresh):\n",
    "    import scipy.io\n",
    "    types = [\"\", \"_padded\"]\n",
    "    sba_path = os.path.join(path, \"sba\")\n",
    "    os.makedirs(sba_path, exist_ok=True)\n",
    "    \n",
    "    for t in types:\n",
    "        \n",
    "        if \"padded\" in t:\n",
    "            nan_arr = np.full((start_frame, positions.shape[1],3), np.nan)\n",
    "            positions = np.concatenate([nan_arr, positions])\n",
    "        \n",
    "        file_data = dict(positions=positions)\n",
    "\n",
    "        with open(os.path.join(sba_path, f\"sba{t}.pickle\"), 'wb') as f:\n",
    "            pickle.dump(file_data, f)\n",
    "        \n",
    "        scipy.io.savemat(os.path.join(sba_path, f'sba{t}.mat'), file_data)\n",
    "        \n",
    "        if \"padded\" in t:\n",
    "            out_fpath = os.path.join(sba_path, \"sba.avi\")\n",
    "            app.reconstruction_reprojection_video(path, out_fpath, positions, include_lure=True, dlc_thresh=dlc_thresh)\n",
    "        \n",
    "    print('\\nSaved files to', sba_path)"
   ]
  },
  {
   "cell_type": "markdown",
   "metadata": {},
   "source": [
    "## Perform SBA"
   ]
  },
  {
   "cell_type": "code",
   "execution_count": null,
   "metadata": {},
   "outputs": [],
   "source": [
    "start_frame -= 1\n",
    "N = end_frame-start_frame\n",
    "\n",
    "*_, n_cams, scene_fpath = utils.find_scene_file(DATA_DIR)\n",
    "\n",
    "dlc_points_fpaths = glob(os.path.join(DATA_DIR, '*.h5'))\n",
    "assert n_cams == len(dlc_points_fpaths)\n",
    "    \n",
    "# Load Measurement Data (pixels, likelihood)\n",
    "points_2d_df = utils.load_dlc_points_as_df(dlc_points_fpaths)\n",
    "points_2d_df = points_2d_df[points_2d_df[\"frame\"].between(start_frame, end_frame-1)]\n",
    "points_2d_df = points_2d_df[points_2d_df['likelihood']>dlc_thresh] # ignore points with low likelihood\n",
    "# print(\"DLC points dataframe:\\n\", points_2d_df)\n",
    "\n",
    "points_3d_df, residuals = app.sba_points_fisheye(scene_fpath, points_2d_df)\n",
    "plt.plot(residuals['before'], label=\"Cost before\")\n",
    "plt.plot(residuals['after'], label=\"Cost after\")\n",
    "plt.legend()\n",
    "plt.show()"
   ]
  },
  {
   "cell_type": "code",
   "execution_count": null,
   "metadata": {},
   "outputs": [],
   "source": [
    "markers = get_markers(include_lure=True)\n",
    "\n",
    "sba_positions = np.full((N,len(markers),3), np.nan)\n",
    "for i, marker in enumerate(markers):\n",
    "    marker_pts = points_3d_df[points_3d_df[\"marker\"]==marker][[\"frame\", \"x\", \"y\", \"z\"]].values\n",
    "    for frame, *pt_3d in marker_pts:\n",
    "        sba_positions[int(frame)-start_frame, i] = pt_3d\n",
    "        \n",
    "save_sba(np.array(sba_positions), DATA_DIR, start_frame, dlc_thresh)"
   ]
  },
  {
   "cell_type": "markdown",
   "metadata": {},
   "source": [
    "## Plot the result!"
   ]
  },
  {
   "cell_type": "code",
   "execution_count": null,
   "metadata": {},
   "outputs": [],
   "source": [
    "with open(os.path.join(DATA_DIR, \"sba\", 'sba.pickle'), 'rb') as f:\n",
    "    sba_data = pickle.load(f)\n",
    "sba_positions = sba_data[\"positions\"]\n",
    "\n",
    "ca = plotting.Cheetah(sba_positions, DATA_DIR, reprojections=True, dark_mode=True)\n",
    "ca.animation()"
   ]
  },
  {
   "cell_type": "code",
   "execution_count": null,
   "metadata": {},
   "outputs": [],
   "source": []
  }
 ],
 "metadata": {
  "kernelspec": {
   "display_name": "Python 3",
   "language": "python",
   "name": "python3"
  },
  "language_info": {
   "codemirror_mode": {
    "name": "ipython",
    "version": 3
   },
   "file_extension": ".py",
   "mimetype": "text/x-python",
   "name": "python",
   "nbconvert_exporter": "python",
   "pygments_lexer": "ipython3",
   "version": "3.7.9"
  }
 },
 "nbformat": 4,
 "nbformat_minor": 4
}
