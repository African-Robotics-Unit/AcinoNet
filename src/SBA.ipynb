{
 "cells": [
  {
   "cell_type": "code",
   "execution_count": null,
   "metadata": {},
   "outputs": [],
   "source": [
    "import os\n",
    "import pickle\n",
    "import numpy as np\n",
    "import matplotlib.pyplot as plt\n",
    "from glob import glob\n",
    "from time import time\n",
    "from lib import utils, app\n",
    "from lib.misc import get_markers\n",
    "\n",
    "plt.style.use(os.path.join('..', 'configs', 'mplstyle.yaml'))\n",
    "\n",
    "%load_ext autoreload\n",
    "%autoreload 2\n",
    "\n",
    "ROOT_DATA_DIR = os.path.join(\"..\", \"data\")"
   ]
  },
  {
   "cell_type": "markdown",
   "metadata": {},
   "source": [
    "# Reconstruction Params\n",
    "Define the params in the cell below. Thereafter, run all cells"
   ]
  },
  {
   "cell_type": "code",
   "execution_count": null,
   "metadata": {},
   "outputs": [],
   "source": [
    "# DATA_DIR = os.path.join(ROOT_DATA_DIR, \"2019_03_09\", \"lily\", \"run\")\n",
    "DATA_DIR = os.path.join(ROOT_DATA_DIR, \"2017_08_29\", \"top\", \"jules\", \"run1_1\")\n",
    "\n",
    "start_frame = 50\n",
    "end_frame = 115\n",
    "\n",
    "# DLC p_cutoff - any points with likelihood < dlc_thresh are not trusted in optimisation\n",
    "dlc_thresh = 0.8  # change this only if optimisation result is unsatisfactory"
   ]
  },
  {
   "cell_type": "markdown",
   "metadata": {},
   "source": [
    "# Optimization"
   ]
  },
  {
   "cell_type": "code",
   "execution_count": null,
   "metadata": {},
   "outputs": [],
   "source": [
    "t0 = time()\n",
    "\n",
    "assert os.path.exists(DATA_DIR)\n",
    "OUT_DIR = os.path.join(DATA_DIR, 'sba')\n",
    "DLC_DIR = os.path.join(DATA_DIR, 'dlc')\n",
    "assert os.path.exists(DLC_DIR)\n",
    "os.makedirs(OUT_DIR, exist_ok=True)\n",
    "\n",
    "app.start_logging(os.path.join(OUT_DIR, 'sba.log'))\n",
    "\n",
    "# load video info\n",
    "res, fps, tot_frames, _ = app.get_vid_info(DATA_DIR) # path to original videos\n",
    "assert end_frame <= tot_frames\n",
    "\n",
    "start_frame -= 1 # 0 based indexing\n",
    "assert start_frame >= 0\n",
    "N = end_frame-start_frame\n",
    "\n",
    "*_, n_cams, scene_fpath = utils.find_scene_file(DATA_DIR)\n",
    "\n",
    "dlc_points_fpaths = glob(os.path.join(DLC_DIR, '*.h5'))\n",
    "assert n_cams == len(dlc_points_fpaths)\n",
    "    \n",
    "# Load Measurement Data (pixels, likelihood)\n",
    "points_2d_df = utils.load_dlc_points_as_df(dlc_points_fpaths, verbose=False)\n",
    "points_2d_df = points_2d_df[points_2d_df[\"frame\"].between(start_frame, end_frame-1)]\n",
    "points_2d_df = points_2d_df[points_2d_df['likelihood']>dlc_thresh] # ignore points with low likelihood\n",
    "\n",
    "t1 = time()\n",
    "print(\"Initialization took {0:.2f} seconds\\n\".format(t1 - t0))\n",
    "\n",
    "points_3d_df, residuals = app.sba_points_fisheye(scene_fpath, points_2d_df)\n",
    "\n",
    "app.stop_logging()\n",
    "\n",
    "plt.plot(residuals['before'], label=\"Cost before\")\n",
    "plt.plot(residuals['after'], label=\"Cost after\")\n",
    "plt.legend()\n",
    "fig_fpath = os.path.join(OUT_DIR, 'sba.svg')\n",
    "plt.savefig(fig_fpath, transparent=True)\n",
    "print(f'Saved to {fig_fpath}\\n')\n",
    "plt.show()"
   ]
  },
  {
   "cell_type": "markdown",
   "metadata": {},
   "source": [
    "# Save SBA results"
   ]
  },
  {
   "cell_type": "code",
   "execution_count": null,
   "metadata": {},
   "outputs": [],
   "source": [
    "markers = get_markers()\n",
    "\n",
    "positions = np.full((N, len(markers), 3), np.nan)\n",
    "for i, marker in enumerate(markers):\n",
    "    marker_pts = points_3d_df[points_3d_df[\"marker\"]==marker][[\"frame\", \"x\", \"y\", \"z\"]].values\n",
    "    for frame, *pt_3d in marker_pts:\n",
    "        positions[int(frame)-start_frame, i] = pt_3d\n",
    "\n",
    "app.save_sba(positions, OUT_DIR, scene_fpath, start_frame, dlc_thresh)"
   ]
  },
  {
   "cell_type": "markdown",
   "metadata": {},
   "source": [
    "# Plot the cheetah!"
   ]
  },
  {
   "cell_type": "code",
   "execution_count": null,
   "metadata": {},
   "outputs": [],
   "source": [
    "data_fpath = os.path.join(OUT_DIR, 'sba.pickle')\n",
    "app.plot_cheetah_reconstruction(data_fpath, hide_lure=True, reprojections=False, centered=True, dark_mode=True)"
   ]
  },
  {
   "cell_type": "code",
   "execution_count": null,
   "metadata": {},
   "outputs": [],
   "source": [
    "# data_fpaths = [os.path.join(DATA_DIR, 'sba', 'sba.pickle'),\n",
    "#                os.path.join(DATA_DIR, 'ekf', 'ekf.pickle'),\n",
    "#                os.path.join(DATA_DIR, 'fte', 'fte.pickle')]\n",
    "# app.plot_multiple_cheetah_reconstructions(data_fpaths, hide_lure=True, reprojections=False, centered=True, dark_mode=True)"
   ]
  },
  {
   "cell_type": "code",
   "execution_count": null,
   "metadata": {},
   "outputs": [],
   "source": []
  }
 ],
 "metadata": {
  "kernelspec": {
   "display_name": "Python 3",
   "language": "python",
   "name": "python3"
  },
  "language_info": {
   "codemirror_mode": {
    "name": "ipython",
    "version": 3
   },
   "file_extension": ".py",
   "mimetype": "text/x-python",
   "name": "python",
   "nbconvert_exporter": "python",
   "pygments_lexer": "ipython3",
   "version": "3.7.9"
  }
 },
 "nbformat": 4,
 "nbformat_minor": 4
}
