{
 "cells": [
  {
   "cell_type": "code",
   "execution_count": null,
   "metadata": {},
   "outputs": [],
   "source": [
    "import os\n",
    "import sys\n",
    "import glob\n",
    "import numpy as np\n",
    "import cv2\n",
    "sys.path.append('./Calib')\n",
    "from calib import calib, app, extract, utils, plotting\n",
    "\n",
    "%load_ext autoreload\n",
    "%autoreload 2"
   ]
  },
  {
   "cell_type": "markdown",
   "metadata": {},
   "source": [
    "# Define DATA_DIR"
   ]
  },
  {
   "cell_type": "code",
   "execution_count": null,
   "metadata": {},
   "outputs": [],
   "source": [
    "DATA_ROOT_DIR = '../data'\n",
    "DATA_DIR = os.path.join(DATA_ROOT_DIR, \"2019_03_03\")\n",
    "# DATA_DIR = os.path.join(DATA_ROOT_DIR, \"2017_12_10/bottom\")\n",
    "\n",
    "# Extrinsic calibration\n",
    "EXTRINSIC_DATA_DIR = os.path.join(DATA_DIR, \"extrinsic_calib\")\n",
    "DUMMY_SCENE = os.path.abspath('../configs/dummy_scene.json')"
   ]
  },
  {
   "cell_type": "markdown",
   "metadata": {},
   "source": [
    "# Automatically defined params\n",
    "No need to run this if all you're doing is plotting"
   ]
  },
  {
   "cell_type": "code",
   "execution_count": null,
   "metadata": {},
   "outputs": [],
   "source": [
    "YEAR = 2017 if '2017' in DATA_DIR else 2019\n",
    "\n",
    "# Camera settings\n",
    "CAMS = os.listdir(os.path.join(EXTRINSIC_DATA_DIR, \"videos\"))\n",
    "CAMS = sorted([int(list(filter(str.isdigit, cam))[-2]) for cam in CAMS])\n",
    "\n",
    "# Intrinsic calibration\n",
    "INTRINSIC_DATA_DIR = os.path.join(DATA_ROOT_DIR, f'intrinsic_calib/{YEAR}')"
   ]
  },
  {
   "cell_type": "markdown",
   "metadata": {},
   "source": [
    "# 1. Intrinsic Calibration"
   ]
  },
  {
   "cell_type": "markdown",
   "metadata": {},
   "source": [
    "## 1.1. Extract frames"
   ]
  },
  {
   "cell_type": "markdown",
   "metadata": {},
   "source": [
    "- `.` - Next frame\n",
    "- `,` - Previous frame\n",
    "- `s` - Save current frame\n",
    "- `q` - Quit"
   ]
  },
  {
   "cell_type": "code",
   "execution_count": null,
   "metadata": {},
   "outputs": [],
   "source": [
    "frames_fpath = os.path.join(INTRINSIC_DATA_DIR, \"frames\")\n",
    "if not os.path.exists(frames_fpath):\n",
    "    os.makedirs(frames_fpath)\n",
    "\n",
    "intrinsic_video_path = os.path.join(INTRINSIC_DATA_DIR, 'videos/1.mp4')\n",
    "extract.get_frames(\n",
    "    vid_fpath=intrinsic_video_path, \n",
    "    frame_output_dir=frames_fpath\n",
    ")\n",
    "cv2.waitKey(1); # Needed to close window properly"
   ]
  },
  {
   "cell_type": "markdown",
   "metadata": {},
   "source": [
    "## 1.2. Find calibration board corners"
   ]
  },
  {
   "cell_type": "code",
   "execution_count": null,
   "metadata": {},
   "outputs": [],
   "source": [
    "# Intrinsic checkerboard info\n",
    "INTRINSIC_BOARD_SHAPE = (9, 6) # (horizontal, vertical) num of inner corners of checkerboard pattern\n",
    "INTRINSIC_SQUARE_LEN = 0.04# (length of one side of black/white chessboard square in metres)\n",
    "\n",
    "# prepare the output dir\n",
    "frames_fpath = os.path.join(INTRINSIC_DATA_DIR, \"frames\")\n",
    "if not os.path.exists(frames_fpath):\n",
    "    os.makedirs(frames_fpath)\n",
    "    \n",
    "# 'window_size' sets the size of the calibration board corner detector window size\n",
    "app.extract_corners_from_images(\n",
    "    img_dir=frames_fpath, \n",
    "    out_fpath=os.path.join(INTRINSIC_DATA_DIR, \"points.json\"), \n",
    "    board_shape=INTRINSIC_BOARD_SHAPE, \n",
    "    board_edge_len=INTRINSIC_SQUARE_LEN, \n",
    "    window_size=5, \n",
    "    remove_unused_images=True\n",
    ")"
   ]
  },
  {
   "cell_type": "markdown",
   "metadata": {},
   "source": [
    "## 1.3. Visualise"
   ]
  },
  {
   "cell_type": "code",
   "execution_count": null,
   "metadata": {},
   "outputs": [],
   "source": [
    "app.plot_corners(os.path.join(INTRINSIC_DATA_DIR, \"points.json\"))"
   ]
  },
  {
   "cell_type": "markdown",
   "metadata": {},
   "source": [
    "## 1.4. Calibrate"
   ]
  },
  {
   "cell_type": "code",
   "execution_count": null,
   "metadata": {},
   "outputs": [],
   "source": [
    "K, D, R, t, used_points, rms = app.calibrate_fisheye_intrinsics(\n",
    "    points_fpath=os.path.join(INTRINSIC_DATA_DIR, \"points.json\"), \n",
    "    out_fpath=os.path.join(INTRINSIC_DATA_DIR, \"camera.json\")\n",
    ")\n",
    "print(f\"\\nRMS Error is {rms:.3f} pixels\")"
   ]
  },
  {
   "cell_type": "markdown",
   "metadata": {},
   "source": [
    "## 1.5. Plot undistorted points using intrinsic parameters"
   ]
  },
  {
   "cell_type": "code",
   "execution_count": null,
   "metadata": {},
   "outputs": [],
   "source": [
    "scene = app.plot_points_fisheye_undistort(\n",
    "    points_fpath=os.path.join(INTRINSIC_DATA_DIR, \"points.json\"), \n",
    "    camera_fpath=os.path.join(INTRINSIC_DATA_DIR, \"camera.json\")\n",
    ")"
   ]
  },
  {
   "cell_type": "markdown",
   "metadata": {},
   "source": [
    "# 2. Extrinsic Calibration"
   ]
  },
  {
   "cell_type": "markdown",
   "metadata": {},
   "source": [
    "## 2.1. Extract frames from videos"
   ]
  },
  {
   "cell_type": "code",
   "execution_count": null,
   "metadata": {},
   "outputs": [],
   "source": [
    "# Get paths of the calibration videos\n",
    "calib_vids = sorted(glob.glob(os.path.join(EXTRINSIC_DATA_DIR, 'videos/cam*.mp4')))\n",
    "print(calib_vids)"
   ]
  },
  {
   "cell_type": "markdown",
   "metadata": {},
   "source": [
    "### Launch GUI to extract the frames including the calibration board\n",
    "- `.` - Next frame\n",
    "- `,` - Previous frame\n",
    "- `s` - Save current frame\n",
    "- `q` - Quit"
   ]
  },
  {
   "cell_type": "code",
   "execution_count": null,
   "metadata": {},
   "outputs": [],
   "source": [
    "camera = 1  # Change as needed (in this example we have cameras 1,2,...\n",
    "\n",
    "frames_fpath = os.path.join(EXTRINSIC_DATA_DIR, f\"frames/{camera}\")\n",
    "if not os.path.exists(frames_fpath):\n",
    "    os.makedirs(frames_fpath)\n",
    "print(f'the the output folder is {frames_fpath}')\n",
    "\n",
    "extract.get_frames(calib_vids[camera-1], frames_fpath)\n",
    "cv2.waitKey(0); # Needed to close window properly\n",
    "\n",
    "print('GREAT JOB!!')"
   ]
  },
  {
   "cell_type": "markdown",
   "metadata": {},
   "source": [
    "### Convert frames to negatives"
   ]
  },
  {
   "cell_type": "code",
   "execution_count": null,
   "metadata": {},
   "outputs": [],
   "source": [
    "# Do this only if the checkerboard with a black background was used for extrinsic calibration\n",
    "\n",
    "for cam in CAMS:\n",
    "    frames_fpath = os.path.join(EXTRINSIC_DATA_DIR, f\"frames/{cam}\")\n",
    "    neg_frames_dir = os.path.join(EXTRINSIC_DATA_DIR, f\"neg_frames/{cam}\")\n",
    "    if not os.path.exists(neg_frames_dir):\n",
    "        os.makedirs(neg_frames_dir)\n",
    "    print(f'the the output folder is {neg_frames_dir}')\n",
    "    \n",
    "    for fname in os.listdir(frames_fpath):\n",
    "        if fname.endswith(\".jpg\") or fname.endswith(\".png\"):\n",
    "            img = cv2.imread(os.path.join(frames_fpath, fname))\n",
    "            img_neg = (255 - img)\n",
    "            cv2.imwrite(os.path.join(neg_frames_dir, fname), img_neg)"
   ]
  },
  {
   "cell_type": "markdown",
   "metadata": {},
   "source": [
    "## 2.2. Find calibration board corners\n",
    "Note: This takes a while!"
   ]
  },
  {
   "cell_type": "code",
   "execution_count": null,
   "metadata": {},
   "outputs": [],
   "source": [
    "# Extrinsic checkerboard info\n",
    "EXTRINSIC_BOARD_SHAPE = (9, 6)\n",
    "EXTRINSIC_SQUARE_LEN = 0.088\n",
    "\n",
    "#Set directories\n",
    "points_dir = os.path.join(EXTRINSIC_DATA_DIR, 'points')\n",
    "if not os.path.exists(points_dir):\n",
    "    os.makedirs(points_dir)\n",
    "data_dirs = [[\n",
    "    os.path.join(EXTRINSIC_DATA_DIR, f'frames/{cam}'),\n",
    "    os.path.join(points_dir, f'points{cam}.json')\n",
    "] for cam in CAMS]\n",
    "\n",
    "# Find calibration board corners in images and save points\n",
    "for [img_dir, out_fpath] in data_dirs:\n",
    "    # 'window_size' sets the size of the calibration board corner detector window size\n",
    "    app.extract_corners_from_images(\n",
    "        img_dir, \n",
    "        out_fpath,\n",
    "        EXTRINSIC_BOARD_SHAPE,\n",
    "        EXTRINSIC_SQUARE_LEN, \n",
    "        window_size=5, \n",
    "        remove_unused_images=False\n",
    "    )"
   ]
  },
  {
   "cell_type": "markdown",
   "metadata": {},
   "source": [
    "### Fix points that are in the reversed order"
   ]
  },
  {
   "cell_type": "code",
   "execution_count": null,
   "metadata": {},
   "outputs": [],
   "source": [
    "points_fpaths = sorted(glob.glob(os.path.join(EXTRINSIC_DATA_DIR, f\"points/points*.json\")))\n",
    "print(points_fpaths)\n",
    "\n",
    "# list of frames where checkerboard points were detected in the wrong orientation\n",
    "frames = [[],\n",
    "          [],\n",
    "          [],\n",
    "          [],\n",
    "          [],\n",
    "          []]\n",
    "\n",
    "for i in range(len(frames)):\n",
    "    if frames[i]:\n",
    "        points, fnames, board_shape, board_edge_len, cam_res = utils.load_points(points_fpaths[i])\n",
    "        for f in frames[i]:\n",
    "            img_name = f'img{f:05}.jpg'\n",
    "            index = fnames.index(img_name)\n",
    "            img_pts = points[index]\n",
    "            points[index] = np.flip(img_pts, (0, 1))\n",
    "        utils.save_points(points_fpaths[i], points, fnames, board_shape, board_edge_len, cam_res)"
   ]
  },
  {
   "cell_type": "markdown",
   "metadata": {},
   "source": [
    "## 2.3. Calibrate pairwise extrinsics"
   ]
  },
  {
   "cell_type": "code",
   "execution_count": null,
   "metadata": {},
   "outputs": [],
   "source": [
    "camera_fpaths = [os.path.join(INTRINSIC_DATA_DIR, \"camera.json\")]*len(CAMS)\n",
    "points_fpaths =  sorted(glob.glob(os.path.join(EXTRINSIC_DATA_DIR, 'points/points*.json')))\n",
    "scene_fpath = os.path.join(EXTRINSIC_DATA_DIR, \"scene.json\")\n",
    "\n",
    "app.calibrate_fisheye_extrinsics_pairwise(\n",
    "    camera_fpaths, points_fpaths, \n",
    "    out_fpath=scene_fpath,# cams=CAMS,\n",
    "    dummy_scene_fpath=DUMMY_SCENE\n",
    ")"
   ]
  },
  {
   "cell_type": "markdown",
   "metadata": {},
   "source": [
    "## 2.4. Run calibration SBA\n",
    "Note: Also takes a while!"
   ]
  },
  {
   "cell_type": "code",
   "execution_count": null,
   "metadata": {},
   "outputs": [],
   "source": [
    "points_fpaths =  sorted(glob.glob(os.path.join(EXTRINSIC_DATA_DIR, 'points/points*.json')))\n",
    "scene_fpath = os.path.join(EXTRINSIC_DATA_DIR, \"scene.json\")\n",
    "fpath = os.path.join(EXTRINSIC_DATA_DIR, f\"defined_points/defined_points.json\")\n",
    "defined_point_fpath = fpath if os.path.exists(fpath) else None\n",
    "scene_sba_fpath = os.path.join(EXTRINSIC_DATA_DIR, \"scene_sba.json\")\n",
    "\n",
    "res = app.sba_board_points_fisheye(\n",
    "    scene_fpath, points_fpaths, defined_point_fpath,\n",
    "    out_fpath=scene_sba_fpath, only_defined_points=True\n",
    ")\n",
    "print(f\"Before: mean: {np.mean(res['before'])}, std: {np.std(res['before'])}\")\n",
    "print(f\"After: mean: {np.mean(res['after'])}, std: {np.std(res['after'])}\")"
   ]
  },
  {
   "cell_type": "markdown",
   "metadata": {},
   "source": [
    "## 2.5. Visualise (optional)"
   ]
  },
  {
   "cell_type": "markdown",
   "metadata": {},
   "source": [
    "### Plot checkerboard points"
   ]
  },
  {
   "cell_type": "code",
   "execution_count": null,
   "metadata": {},
   "outputs": [],
   "source": [
    "scene_sba_fpath = os.path.join(EXTRINSIC_DATA_DIR, \"scene_sba.json\")\n",
    "points_fpaths =  sorted(glob.glob(os.path.join(EXTRINSIC_DATA_DIR, 'points/points*.json')))\n",
    "\n",
    "plotting.plot_checkerboard_pts(scene_sba_fpath, points_fpaths)"
   ]
  },
  {
   "cell_type": "markdown",
   "metadata": {},
   "source": [
    "### Plot manually defined points"
   ]
  },
  {
   "cell_type": "code",
   "execution_count": null,
   "metadata": {},
   "outputs": [],
   "source": [
    "scene_sba_fpath = os.path.join(EXTRINSIC_DATA_DIR, \"scene_sba.json\")\n",
    "defined_points_fpath = os.path.join(EXTRINSIC_DATA_DIR, f\"defined_points/defined_points.json\")\n",
    "\n",
    "plotting.plot_all_defined_pts(scene_sba_fpath, defined_points_fpath)"
   ]
  },
  {
   "cell_type": "code",
   "execution_count": null,
   "metadata": {},
   "outputs": [],
   "source": []
  }
 ],
 "metadata": {
  "kernelspec": {
   "display_name": "Python 3",
   "language": "python",
   "name": "python3"
  },
  "language_info": {
   "codemirror_mode": {
    "name": "ipython",
    "version": 3
   },
   "file_extension": ".py",
   "mimetype": "text/x-python",
   "name": "python",
   "nbconvert_exporter": "python",
   "pygments_lexer": "ipython3",
   "version": "3.7.6"
  }
 },
 "nbformat": 4,
 "nbformat_minor": 4
}
