{
 "cells": [
  {
   "cell_type": "code",
   "execution_count": null,
   "source": [
    "import os\n",
    "import pw_sd_fte\n",
    "\n",
    "%load_ext autoreload\n",
    "%autoreload 2\n",
    "\n",
    "%matplotlib inline"
   ],
   "outputs": [],
   "metadata": {}
  },
  {
   "cell_type": "code",
   "execution_count": null,
   "source": [
    "# Configurations for the optimisation.\n",
    "root_dir = os.path.join(\"..\", \"data\")\n",
    "data_path = os.path.join(\"2019_03_09\", \"jules\", \"flick1\")\n",
    "start_frame = 60\n",
    "end_frame = 160\n",
    "dlc_thresh = 0.5"
   ],
   "outputs": [],
   "metadata": {}
  },
  {
   "cell_type": "code",
   "execution_count": null,
   "source": [
    "# Run the optimisation.\n",
    "pw_sd_fte.run(root_dir, data_path, start_frame, end_frame, dlc_thresh, enable_shutter_delay=True, enable_ppms=True)"
   ],
   "outputs": [],
   "metadata": {}
  },
  {
   "cell_type": "code",
   "execution_count": null,
   "source": [
    "# Generate metrics.\n",
    "pw_sd_fte.metrics(root_dir, data_path, start_frame, end_frame, dlc_thresh)"
   ],
   "outputs": [],
   "metadata": {}
  }
 ],
 "metadata": {
  "orig_nbformat": 4,
  "language_info": {
   "name": "python"
  }
 },
 "nbformat": 4,
 "nbformat_minor": 2
}